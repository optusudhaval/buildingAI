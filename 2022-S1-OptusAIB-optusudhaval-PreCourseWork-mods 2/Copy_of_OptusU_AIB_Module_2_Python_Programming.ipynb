{
  "nbformat": 4,
  "nbformat_minor": 0,
  "metadata": {
    "colab": {
      "name": "Copy of OptusU_AIB_Module_2_Python_Programming.ipynb",
      "provenance": [],
      "collapsed_sections": [],
      "include_colab_link": true
    },
    "kernelspec": {
      "name": "python3",
      "display_name": "Python 3"
    }
  },
  "cells": [
    {
      "cell_type": "markdown",
      "metadata": {
        "id": "view-in-github",
        "colab_type": "text"
      },
      "source": [
        "<a href=\"https://colab.research.google.com/github/CDAC-lab/2022-S1-OptusAIB/blob/optusudhaval%2FPreCourseWork-mods/Copy_of_OptusU_AIB_Module_2_Python_Programming.ipynb\" target=\"_parent\"><img src=\"https://colab.research.google.com/assets/colab-badge.svg\" alt=\"Open In Colab\"/></a>"
      ]
    },
    {
      "cell_type": "markdown",
      "metadata": {
        "id": "yEPIrKRwwfgE"
      },
      "source": [
        "## **Python Programming for AI**\n",
        "\n",
        "Python is a popular general-purpose programming language known for its  simplified syntax and powerful utility. Data enthusiasts and organisations from across the world use Python to explore and analyse their data. This course module focuses on Python specifically working with data and specifically in the Google Colab environment. Here you will learn how to store and manipulate data to power your analyses through Python and Google Colab.\n",
        "\n",
        "So why is it called Python, naming a programming language after a dangerous constrictor hardly seems appropriate. It seems the creator Guido van Rossum while conceptualising the programming language was also reading the published scripts from “Monty Python’s Flying Circus” (a BBC comedy series from the 1970s. So by that inspiration named the language Python. ([Reference](https://docs.python.org/3/faq/general.html#id19))\n"
      ]
    },
    {
      "cell_type": "markdown",
      "metadata": {
        "id": "tB5Z_ffFym-G"
      },
      "source": [
        "As is customary for starting up in any programming language, let's begin by writing some text to the screen. For this purpose you are going to make use of the `print` command.\n",
        "\n",
        "*How to run this script` - Click on Run or press [Shift key] + [Enter key] to execute each line of code.*"
      ]
    },
    {
      "cell_type": "code",
      "metadata": {
        "id": "yG7gUje3xcGp",
        "colab": {
          "base_uri": "https://localhost:8080/"
        },
        "outputId": "276845ab-8a61-4172-b9de-d965a23126a9"
      },
      "source": [
        "print(\"Hello! Welcome to Python.\")"
      ],
      "execution_count": null,
      "outputs": [
        {
          "output_type": "stream",
          "name": "stdout",
          "text": [
            "Hello! Welcome to Python.\n"
          ]
        }
      ]
    },
    {
      "cell_type": "markdown",
      "metadata": {
        "id": "4h5uoAStnqTN"
      },
      "source": [
        "You can also add comments to your code which allow you to document your intentions to both your future self and others who might choose to work with your code in the future. A general rule of thumb is to use comments to lay out what you are hoping to achieve with your code before you jumping into any programming. Try to avoid stating the obvious but instead outline your intentions for the line or block of code."
      ]
    },
    {
      "cell_type": "code",
      "metadata": {
        "id": "6Loed1mfy0DI"
      },
      "source": [
        "# Indicate to the user that the program has started by printing out a welcome message."
      ],
      "execution_count": null,
      "outputs": []
    },
    {
      "cell_type": "markdown",
      "metadata": {
        "id": "C8cPLUeSwo7z"
      },
      "source": [
        "## Variables\n",
        "\n",
        "Variables allow you store data that you are working on as your work through your notebook.\n",
        "\n",
        "It is preferred to have descriptive names for variables, (such as age, name, total_sales), instead of single letters or less meaningful names (such as a, b, x etc.)  \n",
        "\n",
        "The following are some rules for variables in Python:  \n",
        "\n",
        "1. A variable name must start with a letter or the underscore character  \n",
        "2. A variable name cannot start with a number  \n",
        "3. A variable name can only contain alpha-numeric characters and underscores (A-z, 0-9, and _ )  \n",
        "4. Variable names are case-sensitive (age, Age and AGE are three different variables)\n",
        "\n",
        "### Coding Standards and Naming Conventions\n",
        "\n",
        "In addition to this it is recommended to follow a naming convention when working with any programming language. There are various conventions in use these are two which are popular.\n",
        "\n",
        "1. Python's own [coding standards](https://www.python.org/dev/peps/pep-0008/), [this section](https://www.python.org/dev/peps/pep-0008/#function-and-variable-names) talks specifically to function and variable naming.\n",
        "2. Google's [coding standards](https://google.github.io/styleguide/pyguide.html), [this section](https://google.github.io/styleguide/pyguide.html#3163-file-naming) talks specifically to function and variable naming.\n",
        "\n",
        "*Both 1) & 2) prescribe lowercase with underscore for separators in the case of function (to be discussed further down in the section) and variable naming. But if you are defining constants make use of capital casing.*\n",
        "\n",
        "\n",
        "Ok back to variables, let's work through the process of converting a temperature from Farenheit to Celsius to illustrate further. The conversion is as follows;\n",
        "\n",
        "\\begin{equation}\n",
        "Celsius^{\\circ} = \\frac{5}{9} (Farenheit ^{\\circ} - 32) \n",
        "\\end{equation}"
      ]
    },
    {
      "cell_type": "code",
      "metadata": {
        "id": "OaBMpjN-y_M8",
        "colab": {
          "base_uri": "https://localhost:8080/"
        },
        "outputId": "3bb9e799-a4db-4505-d15b-2dc3fe68607e"
      },
      "source": [
        "# setup constants for the equation\n",
        "DEDUCTOR = 32\n",
        "MULTIPLIER = 5/9\n",
        "\n",
        "# setup the value to be converted\n",
        "farenheit_value = 100\n",
        "\n",
        "# setup text for displaying the information\n",
        "initial_message = 'The value you are converting from Farenheit to Celsius is:'\n",
        "final_message = 'The equivalent Celsius value of this is:'\n",
        "\n",
        "# define the equation and store the celsius equivalent\n",
        "celsius_equivalent_value = (farenheit_value-DEDUCTOR)*MULTIPLIER\n",
        "\n",
        "# display our calculation\n",
        "print(initial_message)\n",
        "print(farenheit_value)\n",
        "print(final_message)\n",
        "print(celsius_equivalent_value)"
      ],
      "execution_count": null,
      "outputs": [
        {
          "output_type": "stream",
          "name": "stdout",
          "text": [
            "The value you are converting from Farenheit to Celsius is:\n",
            "100\n",
            "The equivalent Celsius value of this is:\n",
            "37.77777777777778\n"
          ]
        }
      ]
    },
    {
      "cell_type": "markdown",
      "metadata": {
        "id": "ehi7UpSZea_F"
      },
      "source": [
        "*Exercise: can you lookup how to restrict the number of decimal points?*\n",
        "\n",
        "We had spoken about Python's dynamic typing. let's have a look at our variables from our example above and see what type they have been initialised as."
      ]
    },
    {
      "cell_type": "code",
      "metadata": {
        "colab": {
          "base_uri": "https://localhost:8080/"
        },
        "id": "X0EH1AOaeY5e",
        "outputId": "034a6bb3-e63d-4b48-aa2c-d0a1b9eb2166"
      },
      "source": [
        "print(type(farenheit_value))\n",
        "print(type(celsius_equivalent_value))\n",
        "print(type(final_message))"
      ],
      "execution_count": null,
      "outputs": [
        {
          "output_type": "stream",
          "name": "stdout",
          "text": [
            "<class 'int'>\n",
            "<class 'float'>\n",
            "<class 'str'>\n"
          ]
        }
      ]
    },
    {
      "cell_type": "markdown",
      "metadata": {
        "id": "ee8UEELBfGRw"
      },
      "source": [
        "In our temperature conversion example above one thing we can notice is that the resulting value is a decimal value. Let's say we want to make it a integer value, we can achieve this using type casting. This will work for other conversion as well, such as int to string, string to float etc. If the cast is not possible an error will be thrown.\n",
        "\n",
        "*Excercise: can you look at how to convert an number written as a string to an int*"
      ]
    },
    {
      "cell_type": "code",
      "metadata": {
        "id": "pkfYTCfWzSev",
        "colab": {
          "base_uri": "https://localhost:8080/"
        },
        "outputId": "b19cde35-e343-46ad-db80-8fa1b1922d9a"
      },
      "source": [
        "# Casting / Changing variable type\n",
        "celsius_equivalent_value = int(celsius_equivalent_value)\n",
        "\n",
        "print(celsius_equivalent_value)\n",
        "print(type(celsius_equivalent_value))"
      ],
      "execution_count": null,
      "outputs": [
        {
          "output_type": "stream",
          "name": "stdout",
          "text": [
            "37\n",
            "<class 'int'>\n"
          ]
        }
      ]
    },
    {
      "cell_type": "code",
      "source": [
        "celsius_equivalent_value_str = str(celsius_equivalent_value)\n",
        "print (celsius_equivalent_value_str)\n",
        "print (type(celsius_equivalent_value_str))"
      ],
      "metadata": {
        "id": "-ZYRthFpdity",
        "outputId": "29067dc9-71cc-4f66-f3af-4806bb6a54d7",
        "colab": {
          "base_uri": "https://localhost:8080/"
        }
      },
      "execution_count": null,
      "outputs": [
        {
          "output_type": "stream",
          "name": "stdout",
          "text": [
            "37\n",
            "<class 'str'>\n"
          ]
        }
      ]
    },
    {
      "cell_type": "markdown",
      "metadata": {
        "id": "qpocDXGVgLQ5"
      },
      "source": [
        "## Operations\n",
        "\n",
        "As discussed in the lecture, programming (in any language) has several high-level \"operations\". We discuss them below."
      ]
    },
    {
      "cell_type": "markdown",
      "metadata": {
        "id": "CEjQBR4PwuT1"
      },
      "source": [
        "### Assignment and Operators"
      ]
    },
    {
      "cell_type": "markdown",
      "metadata": {
        "id": "4qsx2B0t1Gw-"
      },
      "source": [
        "1. Arithmetic operators"
      ]
    },
    {
      "cell_type": "code",
      "metadata": {
        "id": "lcdprWP80Z27"
      },
      "source": [
        "x = 29\n",
        "y = 6"
      ],
      "execution_count": null,
      "outputs": []
    },
    {
      "cell_type": "code",
      "metadata": {
        "id": "xLyQoGJp1VDF",
        "colab": {
          "base_uri": "https://localhost:8080/"
        },
        "outputId": "b089f252-6de3-42c0-e19f-36d67bd170d1"
      },
      "source": [
        "# Addition\n",
        "z = x + y\n",
        "print(z)"
      ],
      "execution_count": null,
      "outputs": [
        {
          "output_type": "stream",
          "name": "stdout",
          "text": [
            "35\n"
          ]
        }
      ]
    },
    {
      "cell_type": "code",
      "metadata": {
        "id": "ILRg9ONF1cKM",
        "colab": {
          "base_uri": "https://localhost:8080/"
        },
        "outputId": "615e94f3-007f-4520-9b37-804650f2c119"
      },
      "source": [
        "# Subtraction\n",
        "z = x - y\n",
        "print(z)"
      ],
      "execution_count": null,
      "outputs": [
        {
          "output_type": "stream",
          "name": "stdout",
          "text": [
            "23\n"
          ]
        }
      ]
    },
    {
      "cell_type": "code",
      "metadata": {
        "id": "kSMsYpsx1fWy",
        "colab": {
          "base_uri": "https://localhost:8080/"
        },
        "outputId": "558f6e3d-da0b-4891-f090-cc2105c04f3b"
      },
      "source": [
        "# Multiplication\n",
        "z = x * y\n",
        "print(z)"
      ],
      "execution_count": null,
      "outputs": [
        {
          "output_type": "stream",
          "name": "stdout",
          "text": [
            "174\n"
          ]
        }
      ]
    },
    {
      "cell_type": "code",
      "metadata": {
        "id": "pkP_ReZu1txW",
        "colab": {
          "base_uri": "https://localhost:8080/"
        },
        "outputId": "3ddcecb5-9637-4eb1-8627-be0065dff8a9"
      },
      "source": [
        "# Division\n",
        "z = x / y\n",
        "print(z)"
      ],
      "execution_count": null,
      "outputs": [
        {
          "output_type": "stream",
          "name": "stdout",
          "text": [
            "4.833333333333333\n"
          ]
        }
      ]
    },
    {
      "cell_type": "code",
      "metadata": {
        "id": "DBVjGy0-1x53",
        "colab": {
          "base_uri": "https://localhost:8080/"
        },
        "outputId": "6e98b086-7fef-4de1-a3c1-51b4a3bff5f8"
      },
      "source": [
        "# Modulus\n",
        "z = 10 % 3\n",
        "print(z)"
      ],
      "execution_count": null,
      "outputs": [
        {
          "output_type": "stream",
          "name": "stdout",
          "text": [
            "1\n"
          ]
        }
      ]
    },
    {
      "cell_type": "code",
      "metadata": {
        "id": "p63EQhzU150f",
        "colab": {
          "base_uri": "https://localhost:8080/"
        },
        "outputId": "e4c34aec-1412-48e5-a598-ba9e548cce08"
      },
      "source": [
        "# Exponentiation\n",
        "z = 4 ** 2\n",
        "print(z)"
      ],
      "execution_count": null,
      "outputs": [
        {
          "output_type": "stream",
          "name": "stdout",
          "text": [
            "16\n"
          ]
        }
      ]
    },
    {
      "cell_type": "markdown",
      "metadata": {
        "id": "82fccz1f2Gjj"
      },
      "source": [
        "2. Comparison Operators"
      ]
    },
    {
      "cell_type": "code",
      "metadata": {
        "id": "m6tJmid62BCK",
        "colab": {
          "base_uri": "https://localhost:8080/"
        },
        "outputId": "3c5604e4-032b-404c-e4d0-81decf708591"
      },
      "source": [
        "4 == 4"
      ],
      "execution_count": null,
      "outputs": [
        {
          "output_type": "execute_result",
          "data": {
            "text/plain": [
              "True"
            ]
          },
          "metadata": {},
          "execution_count": 15
        }
      ]
    },
    {
      "cell_type": "code",
      "metadata": {
        "id": "hjaP34tg2OON",
        "colab": {
          "base_uri": "https://localhost:8080/"
        },
        "outputId": "3a3d5533-8b1d-40ac-90fd-e6386810ba7d"
      },
      "source": [
        "8 != 9"
      ],
      "execution_count": null,
      "outputs": [
        {
          "output_type": "execute_result",
          "data": {
            "text/plain": [
              "True"
            ]
          },
          "metadata": {},
          "execution_count": 16
        }
      ]
    },
    {
      "cell_type": "code",
      "metadata": {
        "id": "2SXyaQWN2Qys",
        "colab": {
          "base_uri": "https://localhost:8080/"
        },
        "outputId": "d660a1cb-a921-40f2-d269-a3042aa43419"
      },
      "source": [
        "4 > 3 and 7 < 9"
      ],
      "execution_count": null,
      "outputs": [
        {
          "output_type": "execute_result",
          "data": {
            "text/plain": [
              "True"
            ]
          },
          "metadata": {},
          "execution_count": 17
        }
      ]
    },
    {
      "cell_type": "code",
      "metadata": {
        "id": "HFxMIGl-2aVn",
        "colab": {
          "base_uri": "https://localhost:8080/"
        },
        "outputId": "60c7652f-16c9-4cf8-b9f1-2ed75b1f61ab"
      },
      "source": [
        "3 > 4 and 7 < 9"
      ],
      "execution_count": null,
      "outputs": [
        {
          "output_type": "execute_result",
          "data": {
            "text/plain": [
              "False"
            ]
          },
          "metadata": {},
          "execution_count": 18
        }
      ]
    },
    {
      "cell_type": "code",
      "metadata": {
        "id": "Xdt1iBOh2d56",
        "colab": {
          "base_uri": "https://localhost:8080/"
        },
        "outputId": "4d35d9fc-225a-4b52-a78a-53135775f925"
      },
      "source": [
        "3 > 4 or 7 < 9"
      ],
      "execution_count": null,
      "outputs": [
        {
          "output_type": "execute_result",
          "data": {
            "text/plain": [
              "True"
            ]
          },
          "metadata": {},
          "execution_count": 19
        }
      ]
    },
    {
      "cell_type": "markdown",
      "metadata": {
        "id": "fyNvKs_kxTiY"
      },
      "source": [
        "### Conditions"
      ]
    },
    {
      "cell_type": "code",
      "metadata": {
        "id": "QqTxaAKV4Gq4",
        "colab": {
          "base_uri": "https://localhost:8080/"
        },
        "outputId": "622fe0a0-883c-479b-f5a5-422c87aa7074"
      },
      "source": [
        "a = 200\n",
        "b = 33\n",
        "if b > a:\n",
        "  print(\"b is greater than a\")\n",
        "elif a == b:\n",
        "  print(\"a and b are equal\")\n",
        "else:\n",
        "  print(\"a is greater than b\")"
      ],
      "execution_count": null,
      "outputs": [
        {
          "output_type": "stream",
          "name": "stdout",
          "text": [
            "a is greater than b\n"
          ]
        }
      ]
    },
    {
      "cell_type": "markdown",
      "metadata": {
        "id": "1i_akla9xXhO"
      },
      "source": [
        "###  Iterators"
      ]
    },
    {
      "cell_type": "code",
      "metadata": {
        "colab": {
          "base_uri": "https://localhost:8080/"
        },
        "id": "rwQmsqFI-n4P",
        "outputId": "c0f1add3-2efe-4513-93dd-da896108e634"
      },
      "source": [
        "y = [1, 2, 3] # list of numbers\n",
        "for x in y:\n",
        "  print(x)"
      ],
      "execution_count": null,
      "outputs": [
        {
          "output_type": "stream",
          "name": "stdout",
          "text": [
            "1\n",
            "2\n",
            "3\n"
          ]
        }
      ]
    },
    {
      "cell_type": "code",
      "metadata": {
        "id": "7nev7na74gGH",
        "colab": {
          "base_uri": "https://localhost:8080/"
        },
        "outputId": "10475c74-5bd4-4890-ad8f-c33f05f76d1d"
      },
      "source": [
        "for x in range(6):  # Range(): range(start, stop, step)\n",
        "  print(x)"
      ],
      "execution_count": null,
      "outputs": [
        {
          "output_type": "stream",
          "name": "stdout",
          "text": [
            "0\n",
            "1\n",
            "2\n",
            "3\n",
            "4\n",
            "5\n"
          ]
        }
      ]
    },
    {
      "cell_type": "code",
      "metadata": {
        "id": "ZTEqvLzO4wTD",
        "colab": {
          "base_uri": "https://localhost:8080/"
        },
        "outputId": "1b941648-9314-4595-d9bb-97b9ca5285f7"
      },
      "source": [
        "for x in range(2, 30, 3):\n",
        "  print(x)"
      ],
      "execution_count": null,
      "outputs": [
        {
          "output_type": "stream",
          "name": "stdout",
          "text": [
            "2\n",
            "5\n",
            "8\n",
            "11\n",
            "14\n",
            "17\n",
            "20\n",
            "23\n",
            "26\n",
            "29\n"
          ]
        }
      ]
    },
    {
      "cell_type": "markdown",
      "metadata": {
        "id": "Rztfy9W3xdGG"
      },
      "source": [
        "## Functions\n",
        "\n",
        "As you noticed in our temperature conversion example above we have written it out in a sequence of programming instructions. If we were to perform this conversion for another value, then we would needed to write them out all again. Clearly this is not practical and this is where functions come in. Functions are reusable blocks of code that an be written to perform an action or sequence of actions. In Python functions are defined by using the keyword `def`.\n",
        "\n",
        "In general in keeping with a principle called the [Single Responsibility Principle (SRP)](https://en.wikipedia.org/wiki/Single-responsibility_principle) it is beneficial to have your function responsiple for a single action. This is generally applied to classes and modules but they are just as effective when considering functions as well.\n",
        "\n",
        "Generally you will define all of your functions right at the top of your notebook and then use them your scripts below.\n",
        "\n",
        "Let's rewrite our temperature conversion as a function."
      ]
    },
    {
      "cell_type": "code",
      "metadata": {
        "id": "eKkEvGy_4_cO"
      },
      "source": [
        "# define a function to convert a temperature from farenheit to celsius\n",
        "def convert_temperature_from_farenheit_to_celsius_with_display(farenheit_value):\n",
        "  \"\"\"\n",
        "    This function will take convert a temperature value farenheit to celsius.\n",
        "  \"\"\"\n",
        "  # setup constants for the equation\n",
        "  DEDUCTOR = 32\n",
        "  MULTIPLIER = 5/9\n",
        "\n",
        "  \"\"\" \n",
        "    Commenting out this block of code as we are now passing in the value to be \n",
        "    converted as a variable to the function.\n",
        "  \"\"\"\n",
        "  # setup the value to be converted\n",
        "  # farenheit_value = 100\n",
        "\n",
        "  # setup text for displaying the information\n",
        "  initial_message = 'The value you are converting from Farenheit to Celsius is:'\n",
        "  final_message = 'The equivalent Celsius value of this is:'\n",
        "\n",
        "  # define the equation and store the celsius equivalent\n",
        "  celsius_equivalent_value = (farenheit_value-DEDUCTOR)*MULTIPLIER\n",
        "\n",
        "  # display our calculation\n",
        "  print(initial_message)\n",
        "  print(farenheit_value)\n",
        "  print(final_message)\n",
        "  print(celsius_equivalent_value)"
      ],
      "execution_count": null,
      "outputs": []
    },
    {
      "cell_type": "markdown",
      "metadata": {
        "id": "kTTetujZqK2b"
      },
      "source": [
        "If you were to run the above block of code you would notice that there is no output. That's because we will need to call it with a task for it to perform."
      ]
    },
    {
      "cell_type": "code",
      "metadata": {
        "id": "8D3ehynd5JZz",
        "colab": {
          "base_uri": "https://localhost:8080/"
        },
        "outputId": "2d3402e9-f585-4287-9c30-01683c6b621e"
      },
      "source": [
        "# Call our temperature conversion function with a value to convert.\n",
        "convert_temperature_from_farenheit_to_celsius_with_display(100)\n",
        "convert_temperature_from_farenheit_to_celsius_with_display(98)"
      ],
      "execution_count": null,
      "outputs": [
        {
          "output_type": "stream",
          "name": "stdout",
          "text": [
            "The value you are converting from Farenheit to Celsius is:\n",
            "100\n",
            "The equivalent Celsius value of this is:\n",
            "37.77777777777778\n",
            "The value you are converting from Farenheit to Celsius is:\n",
            "98\n",
            "The equivalent Celsius value of this is:\n",
            "36.66666666666667\n"
          ]
        }
      ]
    },
    {
      "cell_type": "markdown",
      "metadata": {
        "id": "SxhAGKZRs3GX"
      },
      "source": [
        "*Exercise: How would you rewrite this function to reflect the Single Responsibility Principle?* \n",
        "\n",
        "Let's say we want to isolate our display tasks from our conversion task we would utilise the capability of our function to return a value."
      ]
    },
    {
      "cell_type": "code",
      "metadata": {
        "id": "rjCgzgRttFL-"
      },
      "source": [
        "def convert_temperature_from_farenheit_to_celsius(farenheit_value):\n",
        "  \"\"\"\n",
        "    This function will take convert a temperature value farenheit to celsius.\n",
        "  \"\"\"\n",
        "  # setup constants for the equation\n",
        "  DEDUCTOR = 32\n",
        "  MULTIPLIER = 5/9\n",
        "\n",
        "  # setup the value to be converted\n",
        "  # farenheit_value = 100\n",
        "\n",
        "  # setup text for displaying the information\n",
        "  initial_message = 'The value you are converting from Farenheit to Celsius is:'\n",
        "  final_message = 'The equivalent Celsius value of this is:'\n",
        "\n",
        "  # define the equation and store the celsius equivalent\n",
        "  celsius_equivalent_value = (farenheit_value-DEDUCTOR)*MULTIPLIER\n",
        "\n",
        "  \"\"\" \n",
        "    Removing our display functionality and returning our converted value back.\n",
        "  \"\"\"\n",
        "  # display our calculation\n",
        "  # print(initial_message)\n",
        "  # print(farenheit_value)\n",
        "  # print(final_message)\n",
        "  # print(celsius_equivalent_value)\n",
        "  return celsius_equivalent_value"
      ],
      "execution_count": null,
      "outputs": []
    },
    {
      "cell_type": "markdown",
      "metadata": {
        "id": "VOqtcfGJthoG"
      },
      "source": [
        "This means our function will just calculate our conversion and give us back the converted value. Once we have the converted value we can then proceed to either display it or perform any other action on it.\n"
      ]
    },
    {
      "cell_type": "code",
      "metadata": {
        "colab": {
          "base_uri": "https://localhost:8080/"
        },
        "id": "slZNbb1LuWzo",
        "outputId": "1c1fa5d0-571d-44e7-dece-148b7f7415d8"
      },
      "source": [
        "celsius_value = convert_temperature_from_farenheit_to_celsius(102)\n",
        "\n",
        "# making use of the string format function to write the return value inline with the message\n",
        "print(\"The converted value is {} Celsius\".format(celsius_value)) "
      ],
      "execution_count": null,
      "outputs": [
        {
          "output_type": "stream",
          "name": "stdout",
          "text": [
            "The converted value is 38.88888888888889 Celsius\n"
          ]
        }
      ]
    },
    {
      "cell_type": "markdown",
      "metadata": {
        "id": "vXf30c5XKHX9"
      },
      "source": [
        "*Exercise: What more improvements would you make to this program?*\n",
        "\n"
      ]
    },
    {
      "cell_type": "markdown",
      "metadata": {
        "id": "Bn82lFRt4uZa"
      },
      "source": [
        "### Lambda functions\n",
        "\n",
        "A lambda function is an anonymous function defined without a name in python. A lambda function can take any number of arguments, but can only have one expression. Given that our example above involved a single expression we can potentially make it a lambda."
      ]
    },
    {
      "cell_type": "code",
      "metadata": {
        "colab": {
          "base_uri": "https://localhost:8080/"
        },
        "id": "GRA1CPnzttGk",
        "outputId": "05fb3c92-3b62-4ae5-f80a-c331f58f3e28"
      },
      "source": [
        "# writing the temperature converter as a lambda\n",
        "temperature_converter = lambda farenheit_value:(farenheit_value-32)*5/9\n",
        "\n",
        "# declare the display message once so that we can reuse it for multiple executions.\n",
        "display_message = \"The converted value is {} Celsius\"\n",
        "\n",
        "# making use of the string format function to write the return value inline with the message\n",
        "print(display_message.format(temperature_converter(100)))\n",
        "print(display_message.format(temperature_converter(104))) "
      ],
      "execution_count": null,
      "outputs": [
        {
          "output_type": "stream",
          "name": "stdout",
          "text": [
            "The converted value is 37.77777777777778 Celsius\n",
            "The converted value is 40.0 Celsius\n"
          ]
        }
      ]
    },
    {
      "cell_type": "markdown",
      "metadata": {
        "id": "3-myFJoCGHBh"
      },
      "source": [
        "## Working with Strings\n",
        "\n",
        "Python provides a rich library for working with text. Let's look at how we can use some of these features through an example;"
      ]
    },
    {
      "cell_type": "code",
      "metadata": {
        "id": "f26GuyS9z8SK",
        "colab": {
          "base_uri": "https://localhost:8080/"
        },
        "outputId": "49b94a19-ec6a-4959-ffbc-1b33936e3610"
      },
      "source": [
        "# String operations\n",
        "\n",
        "a = \"Hello, World!\"\n",
        "print(a[1])\n",
        "\n",
        "b = \"Hello, World!\"\n",
        "print(b[2:5])  # indexing starts with 0\n",
        "\n",
        "c = \"   Hello, World!   \" # string with head and tail whitespaces\n",
        "print(c.strip())\n",
        "\n",
        "a = \"Hello, World!\"\n",
        "print('Length:', len(a))\n",
        "\n",
        "a = \"Hello, World!\"\n",
        "print(a.lower())\n",
        "\n",
        "a = \"Hello, World!\"\n",
        "print(a.upper())\n",
        "\n",
        "a = \"Hello, World!\"\n",
        "print(a.replace(\"H\", \"J\"))\n",
        "\n",
        "a = \"Hello, World!\"\n",
        "print(a.split(\",\")) # returns ['Hello', ' World!']"
      ],
      "execution_count": null,
      "outputs": [
        {
          "output_type": "stream",
          "name": "stdout",
          "text": [
            "e\n",
            "llo\n",
            "Hello, World!\n",
            "Length: 13\n",
            "hello, world!\n",
            "HELLO, WORLD!\n",
            "Jello, World!\n",
            "['Hello', ' World!']\n"
          ]
        }
      ]
    },
    {
      "cell_type": "markdown",
      "metadata": {
        "id": "CDp-r6OVH23S"
      },
      "source": [
        "Let's look to deploy these skills in a practical exercise. A common use case is extracting information about a file from the filename. The filename below has the following structure;\n",
        "\n",
        "*Account Number#Date-in-format-yymmdd#Padding#Category#Company* \n",
        "\n",
        "How would we go about extracting this information?\n",
        "\n",
        "We will be making use of the datetime library to help us with the date identification. "
      ]
    },
    {
      "cell_type": "code",
      "metadata": {
        "colab": {
          "base_uri": "https://localhost:8080/"
        },
        "id": "6xRRiVbOE8ql",
        "outputId": "73b9ae55-7612-4d38-ae61-719f5f56a79f"
      },
      "source": [
        "# NGWK0M1288#21012800002000000#GLOBALM#OPTUS.zip\n",
        "filename = ' NGWK0M1288#21012800002000000#GLOBALM#OPTUS.zip'\n",
        "\n",
        "# remove the extension\n",
        "filename = filename[:-4]\n",
        "\n",
        "# remove leading and trailing whitespace\n",
        "filename = filename.strip()\n",
        "\n",
        "# split by the # delimiter\n",
        "name_parts = filename.split(\"#\")\n",
        "\n",
        "# get the date \n",
        "date_string = name_parts[1][0:6]\n",
        "\n",
        "from datetime import datetime\n",
        "\n",
        "# convert to date based on the mask\n",
        "# the definition of the format can be found here; https://strftime.org/\n",
        "date_value = datetime.strptime(date_string, '%y%m%d')\n",
        "\n",
        "name_parts[1] = str(date_value)\n",
        "print(name_parts)"
      ],
      "execution_count": null,
      "outputs": [
        {
          "output_type": "stream",
          "name": "stdout",
          "text": [
            "['NGWK0M1288', '2021-01-28 00:00:00', 'GLOBALM', 'OPTUS']\n"
          ]
        }
      ]
    },
    {
      "cell_type": "markdown",
      "metadata": {
        "id": "j-WCC9ai_wk7"
      },
      "source": [
        "## Dates and Time\n",
        "\n",
        "The datetime library provides options to deal with date and time values. In the example below we retrieve the current time and format it the way we want. \n",
        "\n",
        "Further format options can be found at [this link](https://www.w3schools.com/python/python_datetime.asp)"
      ]
    },
    {
      "cell_type": "code",
      "metadata": {
        "colab": {
          "base_uri": "https://localhost:8080/",
          "height": 53
        },
        "id": "ErlpNscp_0jR",
        "outputId": "886c3051-b137-442e-a079-55f9adfd376d"
      },
      "source": [
        "the_time_now = datetime.now()\n",
        "print(the_time_now)\n",
        "\n",
        "the_time_now.strftime('%Y/%m/%d %H:%M:%S')"
      ],
      "execution_count": null,
      "outputs": [
        {
          "output_type": "stream",
          "name": "stdout",
          "text": [
            "2022-05-21 07:28:00.135396\n"
          ]
        },
        {
          "output_type": "execute_result",
          "data": {
            "text/plain": [
              "'2022/05/21 07:28:00'"
            ],
            "application/vnd.google.colaboratory.intrinsic+json": {
              "type": "string"
            }
          },
          "metadata": {},
          "execution_count": 32
        }
      ]
    },
    {
      "cell_type": "markdown",
      "metadata": {
        "id": "jAszuP9_Bqwo"
      },
      "source": [
        "The following code allows you to increment time."
      ]
    },
    {
      "cell_type": "code",
      "metadata": {
        "colab": {
          "base_uri": "https://localhost:8080/"
        },
        "id": "Db_003JPBvFX",
        "outputId": "47ec5d4f-6a47-4c11-a153-2888f683b73d"
      },
      "source": [
        "from datetime import timedelta\n",
        "\n",
        "t_increment = timedelta(weeks = 2, days = 5, hours = 1, seconds = 33)\n",
        "\n",
        "the_new_time = the_time_now + t_increment\n",
        "print(the_new_time)\n",
        "\n",
        "print(the_time_now - the_new_time)"
      ],
      "execution_count": null,
      "outputs": [
        {
          "output_type": "stream",
          "name": "stdout",
          "text": [
            "2022-06-09 08:28:33.135396\n",
            "-20 days, 22:59:27\n"
          ]
        }
      ]
    },
    {
      "cell_type": "markdown",
      "metadata": {
        "id": "PEJ0UELpw1Zu"
      },
      "source": [
        "## Lists in Python\n",
        "\n",
        "So far we used a single variable to store a single value. When we want to store multiple values in a single variable, we use a \"List\". \n",
        "\n",
        "In its simplest version a list is created and initialised by placing all the values (elements) inside square brackets [] , separated by commas. \n",
        "\n",
        "A list will need to be of a single type and can have any number of items. However you can choose to store lists of different types (integers, floats, strings etc.)\n",
        "\n",
        "The examples below show you some operations that we can perform on lists in Python."
      ]
    },
    {
      "cell_type": "code",
      "metadata": {
        "id": "dWYILIUA2zMI",
        "colab": {
          "base_uri": "https://localhost:8080/"
        },
        "outputId": "d1c9c766-12af-4f10-c03b-c704b540459c"
      },
      "source": [
        "# Let's map the geographic makeup of Micronesia(https://en.wikipedia.org/wiki/Micronesia)\n",
        "micronesia = [\"Guam \", \"Kiribati\", \"Nauru\", \"Northern Mariana Islands\", \"Palau\", \"Marshall Islands\"]  # This is a list\n",
        "\n",
        "print(micronesia) # Let's print this list out\n",
        "print(len(micronesia))  # Length of the list"
      ],
      "execution_count": null,
      "outputs": [
        {
          "output_type": "stream",
          "name": "stdout",
          "text": [
            "['Guam ', 'Kiribati', 'Nauru', 'Northern Mariana Islands', 'Palau', 'Marshall Islands']\n",
            "6\n"
          ]
        }
      ]
    },
    {
      "cell_type": "code",
      "metadata": {
        "id": "5exyO6Ws20sE",
        "colab": {
          "base_uri": "https://localhost:8080/"
        },
        "outputId": "fcc2d2f8-7b9b-4441-ee4b-4cefb5b10f6a"
      },
      "source": [
        "# It seems we are missing the Federated States of Micronesia, let's add it in\n",
        "micronesia.append(\"Federated States of Micronesia\") # Add an item to the end of the list\n",
        "print(micronesia) # print a raw version of the list"
      ],
      "execution_count": null,
      "outputs": [
        {
          "output_type": "stream",
          "name": "stdout",
          "text": [
            "['Guam ', 'Kiribati', 'Nauru', 'Northern Mariana Islands', 'Palau', 'Marshall Islands', 'Federated States of Micronesia']\n"
          ]
        }
      ]
    },
    {
      "cell_type": "code",
      "metadata": {
        "id": "WurJEe4N22me",
        "colab": {
          "base_uri": "https://localhost:8080/"
        },
        "outputId": "67534a0d-c393-4b89-b100-e45efb3fcc2d"
      },
      "source": [
        "# Let's insert Fiji to the 2nd position on this list\n",
        "micronesia.insert(1, \"Fiji\")   # Add an item to a specific location in the list - notice how the list index begins with 0\n",
        "print(micronesia)"
      ],
      "execution_count": null,
      "outputs": [
        {
          "output_type": "stream",
          "name": "stdout",
          "text": [
            "['Guam ', 'Fiji', 'Kiribati', 'Nauru', 'Northern Mariana Islands', 'Palau', 'Marshall Islands', 'Federated States of Micronesia']\n"
          ]
        }
      ]
    },
    {
      "cell_type": "code",
      "metadata": {
        "id": "BIUcHWMH25T-",
        "colab": {
          "base_uri": "https://localhost:8080/"
        },
        "outputId": "aeb6804b-c202-4206-993a-9ab2641a3499"
      },
      "source": [
        "# Looks like we made a mistake let's remove Fiji from this list.\n",
        "del micronesia[1]   # Delete a selected item from the list\n",
        "print(micronesia)"
      ],
      "execution_count": null,
      "outputs": [
        {
          "output_type": "stream",
          "name": "stdout",
          "text": [
            "['Guam ', 'Kiribati', 'Nauru', 'Northern Mariana Islands', 'Palau', 'Marshall Islands', 'Federated States of Micronesia']\n"
          ]
        }
      ]
    },
    {
      "cell_type": "code",
      "metadata": {
        "id": "Ehg_n-nO27Za",
        "colab": {
          "base_uri": "https://localhost:8080/"
        },
        "outputId": "ffe71b66-7e97-4891-ca98-59b00862cca7"
      },
      "source": [
        "# Let's sort the list in reverse alphabetical order.\n",
        "micronesia = sorted(micronesia, reverse=True)\n",
        "print(micronesia)"
      ],
      "execution_count": null,
      "outputs": [
        {
          "output_type": "stream",
          "name": "stdout",
          "text": [
            "['Palau', 'Northern Mariana Islands', 'Nauru', 'Marshall Islands', 'Kiribati', 'Guam ', 'Federated States of Micronesia']\n"
          ]
        }
      ]
    },
    {
      "cell_type": "code",
      "metadata": {
        "id": "H7Qp5wnP3Eiy",
        "colab": {
          "base_uri": "https://localhost:8080/"
        },
        "outputId": "824bee6a-86e4-4805-8f38-2f7f5290311e"
      },
      "source": [
        "# Let's iterate through the list and create a new list with added prefix of Micronesia to the each element\n",
        "\n",
        "micronesia_updated = []\n",
        "\n",
        "for x in micronesia:\n",
        "  micronesia_updated.append(\"Micronesia - \" + x)\n",
        "\n",
        "print(micronesia_updated)"
      ],
      "execution_count": null,
      "outputs": [
        {
          "output_type": "stream",
          "name": "stdout",
          "text": [
            "['Micronesia - Palau', 'Micronesia - Northern Mariana Islands', 'Micronesia - Nauru', 'Micronesia - Marshall Islands', 'Micronesia - Kiribati', 'Micronesia - Guam ', 'Micronesia - Federated States of Micronesia']\n"
          ]
        }
      ]
    },
    {
      "cell_type": "markdown",
      "metadata": {
        "id": "uDXauEYL8hQZ"
      },
      "source": [
        "We can also do this using the `map` function. The map() function takes a function (a lambda in this case) and a list and applies the function to each item in that list. More formally the map() function provides a way of applying a function to every item in an iterable."
      ]
    },
    {
      "cell_type": "code",
      "metadata": {
        "colab": {
          "base_uri": "https://localhost:8080/"
        },
        "id": "AjYeGzytdep0",
        "outputId": "569f1751-39ef-4f15-e46f-4a06752d315a"
      },
      "source": [
        "# use the map function to update each geographic element with the prefix of Micronesia\n",
        "micronesia_updated_iterable = list(map(lambda item:\"Micronesia - \" + item, micronesia))\n",
        "\n",
        "# The map function returns what is called an iterator which we are converting back to a list using the list() function\n",
        "micronesia_updated = list(micronesia_updated_iterable)\n",
        "\n",
        "print(micronesia_updated)"
      ],
      "execution_count": null,
      "outputs": [
        {
          "output_type": "stream",
          "name": "stdout",
          "text": [
            "['Micronesia - Palau', 'Micronesia - Northern Mariana Islands', 'Micronesia - Nauru', 'Micronesia - Marshall Islands', 'Micronesia - Kiribati', 'Micronesia - Guam ', 'Micronesia - Federated States of Micronesia']\n"
          ]
        }
      ]
    },
    {
      "cell_type": "markdown",
      "metadata": {
        "id": "uhVBj3UKXrQP"
      },
      "source": [
        "*Exercise: Given a list of numbers [2, 4, 6, 8, 10] and using what you have learned, how would you raise them to their power of 2. hint: use the pow() function.*"
      ]
    },
    {
      "cell_type": "code",
      "source": [
        "num = [2,4,6,8,10]\n",
        "num_pow = list(map(lambda n:pow(n,2), num))\n",
        "print(num_pow)"
      ],
      "metadata": {
        "id": "YBbuVaEUsSUs",
        "outputId": "64a8442d-1d2c-4701-bcbe-4461c9034fec",
        "colab": {
          "base_uri": "https://localhost:8080/"
        }
      },
      "execution_count": null,
      "outputs": [
        {
          "output_type": "stream",
          "name": "stdout",
          "text": [
            "[4, 16, 36, 64, 100]\n"
          ]
        }
      ]
    },
    {
      "cell_type": "code",
      "metadata": {
        "id": "6c8Q6sFa3eri",
        "colab": {
          "base_uri": "https://localhost:8080/"
        },
        "outputId": "2f12ef18-3621-46ae-9c2e-6c8b6d68c1c8"
      },
      "source": [
        "# Check if Palau is grouped under Micronesia\n",
        "if \"Palau\" in micronesia:\n",
        "  print(\"Yes, 'Palau' is grouped under Micronesia.\")"
      ],
      "execution_count": null,
      "outputs": [
        {
          "output_type": "stream",
          "name": "stdout",
          "text": [
            "Yes, 'Palau' is grouped under Micronesia.\n"
          ]
        }
      ]
    },
    {
      "cell_type": "markdown",
      "metadata": {
        "id": "cku9AHtAYilu"
      },
      "source": [
        "## Dictionaries\n",
        "\n",
        "Dictionaries are used to store values as key:value pairs. Notice how the following variable is different to a list, it records several sub-variables for a single value. You can also think of a dictionary as an address book where you find the address / email by looking up a person's name. A dictionary associate keys (name) with values (details) and provides you the opportunity to do lookups.\n"
      ]
    },
    {
      "cell_type": "code",
      "metadata": {
        "id": "uNRGl83S3je5",
        "colab": {
          "base_uri": "https://localhost:8080/"
        },
        "outputId": "f37d2552-b2a0-4fb7-cd4a-dfdf8b442726"
      },
      "source": [
        "vintage_car =\t{\n",
        "  \"brand\": \"Ford\",\n",
        "  \"model\": \"Mustang\",\n",
        "  \"year\": 1964\n",
        "}\n",
        "print(vintage_car)"
      ],
      "execution_count": null,
      "outputs": [
        {
          "output_type": "stream",
          "name": "stdout",
          "text": [
            "{'brand': 'Ford', 'model': 'Mustang', 'year': 1964}\n"
          ]
        }
      ]
    },
    {
      "cell_type": "code",
      "metadata": {
        "id": "50_GLFKt3yUx",
        "colab": {
          "base_uri": "https://localhost:8080/"
        },
        "outputId": "ace421a7-4579-418a-ec37-3f36f27251ec"
      },
      "source": [
        "car_model = vintage_car[\"model\"]\n",
        "print(car_model)"
      ],
      "execution_count": null,
      "outputs": [
        {
          "output_type": "stream",
          "name": "stdout",
          "text": [
            "Mustang\n"
          ]
        }
      ]
    },
    {
      "cell_type": "code",
      "metadata": {
        "id": "i5Jx1_rd30bK",
        "colab": {
          "base_uri": "https://localhost:8080/"
        },
        "outputId": "425c2908-b86e-4eda-bd63-5c3134407136"
      },
      "source": [
        "vintage_car[\"year\"] = 2018\n",
        "print(vintage_car)"
      ],
      "execution_count": null,
      "outputs": [
        {
          "output_type": "stream",
          "name": "stdout",
          "text": [
            "{'brand': 'Ford', 'model': 'Mustang', 'year': 2018}\n"
          ]
        }
      ]
    },
    {
      "cell_type": "code",
      "metadata": {
        "id": "wRMu05Av34Pl",
        "colab": {
          "base_uri": "https://localhost:8080/"
        },
        "outputId": "ae2bff9d-d13b-4612-8bf7-118181c71a9e"
      },
      "source": [
        "a_dictionary = {'Company': 'Tesla Inc', 'Stock Price': 798.15\n",
        "                , 'Movement': '+15%', 'Code': 'NASDAQ:TSLA'\n",
        "                , 'Time': 'After Hours · 15 February 2:00 pm EST'}\n",
        "\n",
        "for key, value in a_dictionary.items():\n",
        "  print(key + ':', value)"
      ],
      "execution_count": null,
      "outputs": [
        {
          "output_type": "stream",
          "name": "stdout",
          "text": [
            "Company: Tesla Inc\n",
            "Stock Price: 798.15\n",
            "Movement: +15%\n",
            "Code: NASDAQ:TSLA\n",
            "Time: After Hours · 15 February 2:00 pm EST\n"
          ]
        }
      ]
    },
    {
      "cell_type": "markdown",
      "metadata": {
        "id": "hn4YO7eMXubX"
      },
      "source": [
        "If you were to want to represent multiple cars and their attributes you can use list of dictionaries.\n",
        "\n",
        "*Exercise:* Consider that you have been given an array of the populations of the countries represented in Micronesia in our examples above. \n",
        "\n",
        "1) How would you now convert the existing list of country / territory names to countries with their relative populations.\n",
        "2) How would now use filter out the two largest countries / territories in this list? "
      ]
    },
    {
      "cell_type": "code",
      "source": [
        "#Solution (1)\n",
        "# Convert existing contry with their relative populations\n",
        "#   \"Guam\" : 168783 ,     \"Kiribati\" : 119446,    \"Nauru\" : 10834,    \"Northern Mariana Islands\": 57557,    \"Palau\" : 18092,    \"Marshall Islands\": 59194\n",
        "\n",
        "micronesia = [\"Marshall Islands\", \"Nauru\", \"Northern Mariana Islands\",\"Kiribati\", \"Palau\", \"Guam \"] \n",
        "population = [59194, 10834, 57557, 119446, 18092, 168783]\n",
        "merge_country = zip(micronesia, population)\n",
        "merge_country_dict = dict(merge_country)\n",
        "print (merge_country_dict)\n"
      ],
      "metadata": {
        "id": "ldhILSEEuSTH",
        "outputId": "044701f0-61d2-4961-d7d9-022f3d57f112",
        "colab": {
          "base_uri": "https://localhost:8080/"
        }
      },
      "execution_count": null,
      "outputs": [
        {
          "output_type": "stream",
          "name": "stdout",
          "text": [
            "{'Marshall Islands': 59194, 'Nauru': 10834, 'Northern Mariana Islands': 57557, 'Kiribati': 119446, 'Palau': 18092, 'Guam ': 168783}\n"
          ]
        }
      ]
    },
    {
      "cell_type": "code",
      "source": [
        "#Solution (2)\n",
        "# filter largest countries in this list\n",
        "\n",
        "merge_country__sorted = sorted(merge_country_dict.items(), key=lambda x: x[1], reverse=True)[:2]\n",
        "print(merge_country__sorted)\n",
        "\n",
        "\n",
        "#sorted(mydict[1].items(), key=lambda x: x[1], reverse=True)"
      ],
      "metadata": {
        "id": "8zLI4eIfyvKs",
        "outputId": "c777c1f8-705f-43d2-b9c9-dfeb375fb357",
        "colab": {
          "base_uri": "https://localhost:8080/"
        }
      },
      "execution_count": null,
      "outputs": [
        {
          "output_type": "stream",
          "name": "stdout",
          "text": [
            "[('Guam ', 168783), ('Kiribati', 119446)]\n"
          ]
        }
      ]
    },
    {
      "cell_type": "code",
      "source": [
        ""
      ],
      "metadata": {
        "id": "7UVKTRtTcYGz"
      },
      "execution_count": null,
      "outputs": []
    }
  ]
}